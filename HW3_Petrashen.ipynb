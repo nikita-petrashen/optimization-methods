{
 "cells": [
  {
   "cell_type": "markdown",
   "metadata": {},
   "source": [
    "### 1\n",
    "* For convex functions the following holds: \n",
    "$$f(\\alpha x +(1 - \\alpha)y) \\leq \\alpha f(x) + (1 - \\alpha)f(y) \\leq \\alpha h(x) + (1 - \\alpha)h(y)$$\n",
    "$$g(\\alpha x +(1 - \\alpha)y) \\leq \\alpha g(x) + (1 - \\alpha)g(y) \\leq \\alpha h(x) + (1 - \\alpha)h(y)$$\n",
    "* The last inequation holds because $h(x) = \\max \\big\\{f(x), g(x) \\big\\}$\n",
    "* $h(\\alpha x +(1 - \\alpha)y) = max\\{f(\\alpha x +(1 -  \\alpha)y),g(\\alpha x +(1 - \\alpha)y)\\} $\n",
    "* $h(\\alpha x +(1 - \\alpha)y) \\leq \\alpha h(x) + (1 - \\alpha)h(y)$\n",
    "* So $h(x)$ is convex.\n"
   ]
  },
  {
   "cell_type": "markdown",
   "metadata": {},
   "source": [
    "### 2\n",
    "* $f(x) = (Ax, x)$\n",
    "* $df(x) = (Adx, x) + (Ax, dx) = ((A^T + A)x, dx) \\rightarrow \\nabla f(x) = (A^T + A)x$\n",
    "* Hessian $\\nabla^2 f(x) = A^T + A$"
   ]
  },
  {
   "cell_type": "markdown",
   "metadata": {},
   "source": [
    "### 3\n",
    "* $g(x)$ is concave $\\rightarrow g(\\frac{x+y}{2}) \\ge \\frac{g(x)+g(y)}{2}$\n",
    "* $h(x)$ is non-increasing $\\rightarrow h\\big(g(\\frac{x+y}{2})\\big) \\le h\\big(\\frac{g(x)+g(y)}{2} \\big)$\n",
    "* $h(x)$ is convex $\\rightarrow h\\big(\\frac{g(x)+g(y)}{2} \\big) \\le \\frac{1}{2} \\big(h(g(x)) + h(g(y))\\big)$ i.e. $f(\\frac{x+y}{2}) \\le \\frac{f(x) + f(y)}{2}$ and therefore $f(x)$ is convex.\n"
   ]
  },
  {
   "cell_type": "markdown",
   "metadata": {},
   "source": [
    "### 4\n",
    "* By definition of a strongly convex function: $f(y) \\geq f(x) + \\nabla f(x)^T(y - x) + \\frac{m}{2} || y - x|| ^2 $\n",
    "* If we set $x = x_{min}$ we get $f(y) \\geq f(x) + \\frac{m}{2} || y - x|| ^2 $\n",
    "* From the previous line it follows that for any $c$ there exists $y$ s.t. $f(y) \\geq c$, therefore any sub-level set $Q(c)$ is bounded."
   ]
  },
  {
   "cell_type": "markdown",
   "metadata": {},
   "source": [
    "### 5\n",
    "* By the definition of a hyperplane: $c \\in \\mathbb R^n, b \\in \\mathbb R$"
   ]
  },
  {
   "cell_type": "markdown",
   "metadata": {},
   "source": [
    "### 6\n",
    "* $f^*(y) = \\sup_x ((x, y) - (Qx, x))$\n",
    "* $\\nabla_x ((x, y) - (Qx, x)) = y - 2Qx$\n",
    "* $x^* = \\frac{1}{2} Q^{-1} y$; Hessian is $-2Q \\prec 0 \\rightarrow x^*$ is a maximum.\n",
    "* $f^*(y) = \\frac{1}{2}(Q^{-1}y, y) - \\frac{1}{4}(y, Q^{-1}y) = \\frac{1}{4}(Q^{-1}y, y)$"
   ]
  },
  {
   "cell_type": "markdown",
   "metadata": {},
   "source": [
    "### 7\n",
    "* $\\min_z \\frac{1}{m} \\sum_{i=1}^m(z - x_i)^2 = \\min_z f(z)$\n",
    "* $\\nabla_z f(z) = \\frac{2}{m} \\sum_{i=1}^m(z - x_i) = 0 \\rightarrow z^* = \\frac{1}{m} \\sum_{i=0}^m x_i$\n"
   ]
  },
  {
   "cell_type": "markdown",
   "metadata": {},
   "source": [
    "### 8\n",
    " * $f(a, b) = \\frac{1}{m} \\sum_{i=1}^{m}(ax_i + b - y_i)^2$\n",
    " * $\\frac{\\partial f(a, b)}{\\partial a} = \\frac{2}{m} \\sum_{i=1}^{m}x_i(ax_i + b - y_i)$\n",
    " * $\\frac{\\partial f(a, b)}{\\partial b} = \\frac{2}{m} \\sum_{i=1}^{m}(ax_i + b - y_i)$\n",
    " * $\\frac{\\partial f(a, b)}{\\partial a} = \\frac{\\partial f(a, b)}{\\partial b} = 0$\n",
    " * $a = \\frac{\\sum_{i=1}^m (y_i - b) x_i}{\\sum_{i=1}^m x_i^2}$\n",
    " * $\\sum_{j=1}^m ( \\frac{\\sum_{i=1}^m (y_i - b) x_i}{\\sum_{i=1}^m x_i^2} x_j - y_j + b) = 0$\n",
    " * $\\sum_{j=1}^m ( \\frac{\\sum_{i=1}^m y_i x_i}{\\sum_{i=1}^m x_i^2} x_j - y_j) = b \\sum_{j=1}^m ( \\frac{\\sum_{i=1}^m x_i}{\\sum_{i=1}^m x_i^2} x_j - 1)$\n",
    " * $b^* = \\frac{\\sum_{j=1}^m ( \\frac{\\sum_{i=1}^m y_i x_i}{\\sum_{i=1}^m x_i^2} x_j - y_j)}{\\sum_{j=1}^m ( \\frac{\\sum_{i=1}^m x_i}{\\sum_{i=1}^m x_i^2} x_j - 1)}$\n",
    " * $a^* = \\frac{\\sum_{i=1}^m (y_i - b^*) x_i}{\\sum_{i=1}^m x_i^2}$"
   ]
  },
  {
   "cell_type": "markdown",
   "metadata": {},
   "source": [
    "### 9\n",
    "* $B_{k+1} = B_k + \\frac{dd^T}{d^Ts} - \\frac{B_kss^TB_k^T}{s^TB_ks}$\n",
    "* $B_{k+1}s = B_k s + \\frac{dd^Ts}{d^Ts} - \\frac{B_kss^TB_k^Ts}{s^TB_ks}$\n",
    "* $B_{k+1}s = B_k s + d - B_k s$\n",
    "* $B_{k+1}s = d$\n",
    "<br> <br>\n",
    "* $H_{k+1} = B^{-1}_{k+1} = (I - \\frac{sy^T}{y^Ts}) B_k^{-1}(I - \\frac{ys^T}{y^Ts}) + \\frac{ss^T}{y^Ts}$\n",
    "* Multiplying both sides by y:\n",
    "* $(Iy - y) = 0$\n",
    "* $\\frac{ss^T}{y^Ts} = s$\n",
    "* $H_{k+1}y = s$"
   ]
  },
  {
   "cell_type": "markdown",
   "metadata": {},
   "source": [
    "### 10"
   ]
  },
  {
   "cell_type": "code",
   "execution_count": 1,
   "metadata": {},
   "outputs": [],
   "source": [
    "import numpy as np"
   ]
  },
  {
   "cell_type": "code",
   "execution_count": 2,
   "metadata": {},
   "outputs": [],
   "source": [
    "def rosenbrock(p):\n",
    "    if p is None:\n",
    "        return None\n",
    "    x, y = p[0], p[1]\n",
    "    return 100 * (y - x**2)**2 + (1 - x)**2\n",
    "\n",
    "def grad(p):\n",
    "    x, y = p[0], p[1]\n",
    "    \n",
    "    return np.array([-400 * x * (y - x**2) - 2 * (1 - x), 200 * (y - x**2)])\n",
    "\n",
    "def hessian(p):\n",
    "    x, y = p[0], p[1]\n",
    "    return np.array([[-400 * (y - x**2) + 800 * x**2 + 2, -400 * x],\n",
    "                     [-400 * x, 200]])"
   ]
  },
  {
   "cell_type": "markdown",
   "metadata": {},
   "source": [
    "#### 10.1"
   ]
  },
  {
   "cell_type": "code",
   "execution_count": 3,
   "metadata": {},
   "outputs": [],
   "source": [
    "def newtons_method(x0, iters=100, tol=1e-5):\n",
    "    cur = x0\n",
    "    for i in range(iters):\n",
    "        step = np.linalg.inv(hessian(cur)) @ grad(cur)\n",
    "        cur = cur - step\n",
    "        if np.linalg.norm(step, 2) <= tol:\n",
    "            return cur, i + 1\n",
    "        \n",
    "    return cur, i + 1\n",
    "        "
   ]
  },
  {
   "cell_type": "markdown",
   "metadata": {},
   "source": [
    "Newton's method is well-defined here because the Hessian is nonsingular almost everywhere."
   ]
  },
  {
   "cell_type": "code",
   "execution_count": 4,
   "metadata": {},
   "outputs": [
    {
     "name": "stdout",
     "output_type": "stream",
     "text": [
      "xmin [1. 1.] was achieved in 6 steps, fmin is 2.4854048895119503e-26\n"
     ]
    }
   ],
   "source": [
    "xmin, steps = newtons_method(np.array([-2, 5]))\n",
    "print(f'xmin {xmin} was achieved in {steps} steps, fmin is {rosenbrock(xmin)}')"
   ]
  },
  {
   "cell_type": "markdown",
   "metadata": {},
   "source": [
    "#### 10.2"
   ]
  },
  {
   "cell_type": "code",
   "execution_count": 5,
   "metadata": {},
   "outputs": [],
   "source": [
    "from scipy.optimize import line_search "
   ]
  },
  {
   "cell_type": "code",
   "execution_count": 6,
   "metadata": {},
   "outputs": [],
   "source": [
    "def BFGS(x0, iters=100, tol=1e-3):\n",
    "    I = np.eye(x0.shape[0])\n",
    "    cur = x0\n",
    "    g = grad(x0)\n",
    "    H = I\n",
    "    for i in range(iters):\n",
    "        p = -H @ g\n",
    "        alpha = line_search(rosenbrock, grad, cur, p)[0]    # checks Wolfe conditions automatically\n",
    "        if alpha is None:\n",
    "            print(\"Line search let us down\")\n",
    "            return None, None\n",
    "        \n",
    "        s = alpha * p\n",
    "        cur = cur + s\n",
    "        d = grad(cur) - g\n",
    "        g = g + d\n",
    "        if np.linalg.norm(g) <= tol:\n",
    "            return cur, i + 1\n",
    "            \n",
    "        if np.dot(d, s) > 0:\n",
    "            ro = 1. / np.dot(d, s)\n",
    "            H = (I - ro * np.outer(s, d)) @  H @ (I - ro * np.outer(d, s)) + ro *np.outer(s, s)\n",
    "        else:\n",
    "            print(\"Condition is not met\")\n",
    "            return None, None\n",
    "        \n",
    "    return cur, i\n",
    "        "
   ]
  },
  {
   "cell_type": "code",
   "execution_count": 7,
   "metadata": {},
   "outputs": [
    {
     "name": "stdout",
     "output_type": "stream",
     "text": [
      "xmin [0.99999785 0.99999566] was achieved in 29 steps, fmin is 4.7767739453894664e-12\n"
     ]
    }
   ],
   "source": [
    "xmin, steps = BFGS(np.array([-3, 4]))\n",
    "print(f'xmin {xmin} was achieved in {steps} steps, fmin is {rosenbrock(xmin)}')"
   ]
  },
  {
   "cell_type": "markdown",
   "metadata": {},
   "source": [
    "### 11"
   ]
  },
  {
   "cell_type": "code",
   "execution_count": 8,
   "metadata": {},
   "outputs": [],
   "source": [
    "def f(x, A, b, c):\n",
    "    return np.dot(c, x) - np.sum(np.log(b - A@x))\n",
    "\n",
    "def grad(x, A, b, c):\n",
    "    return c + np.sum((1 / (b - np.dot(A, x)) * A.T), axis=1)\n",
    "\n",
    "def hessian(x, A, b, c):\n",
    "    h = np.zeros((n,n))\n",
    "    for i in range(n+1):\n",
    "        h += np.dot(A[i].reshape(-1,1), A[i].reshape(1,-1)) / (b[i] - np.dot(A[i], x))**2 \n",
    "    \n",
    "    return h"
   ]
  },
  {
   "cell_type": "code",
   "execution_count": 9,
   "metadata": {},
   "outputs": [],
   "source": [
    "def newtons_method(x0, A, b, c, lr=0.01, iters=10000, tol=1e-7):\n",
    "    cur = x0\n",
    "    for i in range(iters):\n",
    "        step = np.linalg.pinv(hessian(cur, A, b, c)) @ grad(cur, A, b, c)\n",
    "        cur = cur - lr*step\n",
    "        if np.linalg.norm(step, 2) <= tol:\n",
    "            return cur, i + 1\n",
    "        \n",
    "    return cur, i + 1"
   ]
  },
  {
   "cell_type": "code",
   "execution_count": 10,
   "metadata": {},
   "outputs": [],
   "source": [
    "# shoutout to Ruslan Aliev for these parameters\n",
    "\n",
    "n = 2\n",
    "c = np.array(-np.random.rand(n))\n",
    "b = np.array([2.] * n+[0.])\n",
    "subA = np.array([[-1.] * n])\n",
    "A = np.vstack([np.eye(n), subA])\n",
    "start_x = np.array([.001] * n)"
   ]
  },
  {
   "cell_type": "code",
   "execution_count": 11,
   "metadata": {},
   "outputs": [
    {
     "name": "stdout",
     "output_type": "stream",
     "text": [
      "xmin [0.90887265 1.1091714 ] was achieved in 2226 steps, fmin is -1.7518045534013889\n"
     ]
    }
   ],
   "source": [
    "xmin, steps = newtons_method(start_x, A, b, c)\n",
    "print(f'xmin {xmin} was achieved in {steps} steps, fmin is {f(xmin, A, b, c)}')"
   ]
  },
  {
   "cell_type": "code",
   "execution_count": 12,
   "metadata": {},
   "outputs": [],
   "source": [
    "from scipy.optimize import minimize"
   ]
  },
  {
   "cell_type": "code",
   "execution_count": 13,
   "metadata": {},
   "outputs": [
    {
     "data": {
      "text/plain": [
       "True"
      ]
     },
     "execution_count": 13,
     "metadata": {},
     "output_type": "execute_result"
    }
   ],
   "source": [
    "np.allclose(minimize(f, x0=start_x, method='CG', args=(A, b, c)).x, xmin, atol=1e-3)"
   ]
  },
  {
   "cell_type": "code",
   "execution_count": 14,
   "metadata": {},
   "outputs": [],
   "source": [
    "# shoutout to Ruslan Aliev for these parameters\n",
    "\n",
    "n = 10\n",
    "c = np.array(-np.random.rand(n))\n",
    "b = np.array([2.] * n+[0.])\n",
    "subA = np.array([[-1.] * n])\n",
    "A = np.vstack([np.eye(n), subA])\n",
    "start_x = np.array([.001] * n)"
   ]
  },
  {
   "cell_type": "code",
   "execution_count": 15,
   "metadata": {},
   "outputs": [
    {
     "name": "stdout",
     "output_type": "stream",
     "text": [
      "xmin [ 0.79280853 -0.36404545  0.97583055 -0.6302228  -0.05192473  0.4135661\n",
      "  0.41522274  1.16442216  0.5821166  -0.14287626] was achieved in 2226 steps, fmin is -8.211732055361534\n"
     ]
    }
   ],
   "source": [
    "xmin, it = newtons_method(start_x, A, b, c)\n",
    "print(f'xmin {xmin} was achieved in {steps} steps, fmin is {f(xmin, A, b, c)}')"
   ]
  },
  {
   "cell_type": "code",
   "execution_count": 16,
   "metadata": {},
   "outputs": [
    {
     "data": {
      "text/plain": [
       "True"
      ]
     },
     "execution_count": 16,
     "metadata": {},
     "output_type": "execute_result"
    }
   ],
   "source": [
    "np.allclose(minimize(f, x0=start_x, method='CG', args=(A, b, c)).x, xmin, atol=1e-3)"
   ]
  },
  {
   "cell_type": "code",
   "execution_count": 43,
   "metadata": {},
   "outputs": [],
   "source": [
    "def BFGS(x0, lr=0.00001, iters=100, tol=1e-3):\n",
    "    I = np.eye(x0.shape[0])\n",
    "    cur = x0\n",
    "    g = grad(x0, A, b, c)\n",
    "    H = I\n",
    "    for i in range(iters):\n",
    "        p = -H @ g\n",
    "        alpha = line_search(f, grad, cur, p, args=(A, b, c))[0]    # checks Wolfe conditions automatically\n",
    "        if alpha is None:\n",
    "            print(\"Line search let us down\")\n",
    "            return None, None\n",
    "        \n",
    "        s = lr * alpha * p\n",
    "        cur = cur + s\n",
    "        d = lr * (grad(cur, A, b, c) - g)\n",
    "        g = g + d\n",
    "        if np.linalg.norm(g) <= tol:\n",
    "            return cur, i + 1\n",
    "            \n",
    "        if np.dot(d, s) > 0:\n",
    "            ro = 1. / np.dot(d, s)\n",
    "            H = (I - ro * np.outer(s, d)) @  H @ (I - ro * np.outer(d, s)) + ro *np.outer(s, s)\n",
    "        else:\n",
    "            print(\"Condition is not met\")\n",
    "            return None, None\n",
    "        \n",
    "    return cur, i"
   ]
  },
  {
   "cell_type": "code",
   "execution_count": 44,
   "metadata": {},
   "outputs": [],
   "source": [
    "# shoutout to Ruslan Aliev for these parameters\n",
    "\n",
    "n = 2\n",
    "c = np.array(-np.random.rand(n))\n",
    "b = np.array([2.] * n+[0.])\n",
    "subA = np.array([[-1.] * n])\n",
    "A = np.vstack([np.eye(n), subA])\n",
    "start_x = np.array([.001] * n)"
   ]
  },
  {
   "cell_type": "code",
   "execution_count": 45,
   "metadata": {},
   "outputs": [
    {
     "name": "stderr",
     "output_type": "stream",
     "text": [
      "/home/b30p9hn/anaconda3/lib/python3.7/site-packages/ipykernel_launcher.py:2: RuntimeWarning: invalid value encountered in log\n",
      "  \n"
     ]
    },
    {
     "data": {
      "text/plain": [
       "(array([2.55227148e+100, 2.55826397e+100]), 99)"
      ]
     },
     "execution_count": 45,
     "metadata": {},
     "output_type": "execute_result"
    }
   ],
   "source": [
    "BFGS(start_x)"
   ]
  },
  {
   "cell_type": "code",
   "execution_count": null,
   "metadata": {},
   "outputs": [],
   "source": []
  }
 ],
 "metadata": {
  "kernelspec": {
   "display_name": "Python 3",
   "language": "python",
   "name": "python3"
  },
  "language_info": {
   "codemirror_mode": {
    "name": "ipython",
    "version": 3
   },
   "file_extension": ".py",
   "mimetype": "text/x-python",
   "name": "python",
   "nbconvert_exporter": "python",
   "pygments_lexer": "ipython3",
   "version": "3.7.6"
  }
 },
 "nbformat": 4,
 "nbformat_minor": 4
}
