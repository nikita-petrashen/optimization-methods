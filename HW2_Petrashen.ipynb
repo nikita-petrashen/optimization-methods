{
 "cells": [
  {
   "cell_type": "markdown",
   "metadata": {},
   "source": [
    "### 1\n",
    "* $f(x) = ax^2 + bx + c$\n",
    " $$a \\neq 0$$\n",
    "$f'(x) = 2ax + b = 0; x^* = -\\frac{b}{2a} $<br>$ f''(x) = 2a; a > 0 \\rightarrow min $ at $ x^* = -\\frac{b}{2a}, f(x^*) = -\\frac{b^2}{4a} + c$\n",
    "$$a = 0, b \\neq 0$$\n",
    "$f'(x) = b \\rightarrow $ no minimum, if $a, b = 0, f(x) = c \\rightarrow$ no minimum\n"
   ]
  },
  {
   "cell_type": "markdown",
   "metadata": {},
   "source": [
    "### 2\n",
    "$\\nabla h(x) = A^T \\nabla f(Ax)$ <br>\n",
    "$\\nabla f(Ax): (m,1), A^T: (k,m) \\rightarrow \\nabla h(x): (k, 1)$"
   ]
  },
  {
   "cell_type": "markdown",
   "metadata": {},
   "source": [
    "### 3\n",
    "* Strong convexity: $f(x) \\geq f(x') + \\nabla f(x')^T (x - x') + \\frac{\\mu}{2} ||x - x'||^2_2$\n",
    "* In the minimum point $x^*$ the gradient is zero. Then: $ \\frac{\\mu}{2} ||x - x^*||^2_2 \\leq f(x) - f(x^*)$"
   ]
  },
  {
   "cell_type": "markdown",
   "metadata": {},
   "source": [
    "### 4\n",
    "* Gradient: $\\nabla f(x)_i = 2(c, x)c_i$\n",
    "* Hessian: $H_{ij} =\\frac {\\partial \\nabla f(x)_i}{\\partial x_j}=  2 c_i c_j$"
   ]
  },
  {
   "cell_type": "markdown",
   "metadata": {},
   "source": [
    "### 5\n",
    "* Gradient: $\\nabla f(x) = A^T \\nabla g(Ax+b)$\n",
    "* Hessian: $\\nabla^2 f(x) = A^T \\nabla^2 g(Ax + b) A$"
   ]
  },
  {
   "cell_type": "markdown",
   "metadata": {},
   "source": [
    "### 6\n",
    "* $f(\\gamma) = (A(x + \\gamma d), x + \\gamma d) + (b, x + \\gamma d)$\n",
    "* $\\frac{\\partial f(\\gamma)}{\\partial \\gamma} = 2(Ax, d) + (b, d) + 2 \\gamma (Ad, d) = 0$\n",
    "* $\\gamma ^* = - \\frac{(2Ax + b , d)}{2(Ad, d)}$"
   ]
  },
  {
   "cell_type": "markdown",
   "metadata": {},
   "source": [
    " ### 7\n",
    " * $f(x) = \\max (x^2 - 1, \\ 0)$\n",
    " * $\\partial f(x) = \\{2x \\}, x < -1; \\ \\{-2, 0 \\}, x = -1; \\ \\{ 0 \\}, -1 < x < 1; \\ \\{0, 2\\}, x = 1; \\ \\{ 2x \\}, x > 1$"
   ]
  },
  {
   "cell_type": "markdown",
   "metadata": {},
   "source": [
    "### 8\n",
    "* $\\nabla f(x) = Qx - b$\n",
    "* $ x^1 = x^0 - \\alpha \\nabla f(x^0) = x^0 - \\alpha g^0$\n",
    "* $ x^* = Q^{-1} b = x^0 - \\alpha g^0$\n",
    "* $ Q x^0 - b = \\alpha Q g^0 $\n",
    "* $ Qg^0 = \\frac {1}{\\alpha} g^0 \\rightarrow g^0$ in an eigenvector of $Q$\n",
    "* Proven."
   ]
  },
  {
   "cell_type": "markdown",
   "metadata": {},
   "source": [
    "### 9"
   ]
  },
  {
   "cell_type": "code",
   "execution_count": 1,
   "metadata": {},
   "outputs": [],
   "source": [
    "import numpy as np\n",
    "import pandas as pd\n",
    "import matplotlib.pyplot as plt\n",
    "%matplotlib inline"
   ]
  },
  {
   "cell_type": "code",
   "execution_count": 2,
   "metadata": {},
   "outputs": [],
   "source": [
    "def f(x):\n",
    "    return x[0]**2 + x[0]*x[1] + 10*x[1]**2 - 22*x[1] -5*x[0]\n",
    "\n",
    "def gradf(x):\n",
    "    return np.array([2*x[0] + x[1] - 5, x[0] + 20*x[1] - 22])"
   ]
  },
  {
   "cell_type": "code",
   "execution_count": 3,
   "metadata": {},
   "outputs": [],
   "source": [
    "def gradient_descent(x0, max_iter=10000, tol=1e-4):\n",
    "    xs =[x0]\n",
    "    fs = [f(x0)]\n",
    "    x = x0\n",
    "    for i in range(max_iter):\n",
    "        cur_x = x - 0.01*gradf(x)\n",
    "        xs.append(x)\n",
    "        fs.append(f(x))\n",
    "        if np.linalg.norm(cur_x - x) <= tol:\n",
    "            break\n",
    "        x = cur_x\n",
    "        \n",
    "    return np.array(xs), fs, f(x), x"
   ]
  },
  {
   "cell_type": "code",
   "execution_count": 4,
   "metadata": {
    "scrolled": true
   },
   "outputs": [
    {
     "name": "stdout",
     "output_type": "stream",
     "text": [
      "291\n"
     ]
    }
   ],
   "source": [
    "xs1, fs, fmin, xmin = gradient_descent(np.array([1, 10]))\n",
    "print(len(xs1))"
   ]
  },
  {
   "cell_type": "code",
   "execution_count": 5,
   "metadata": {},
   "outputs": [],
   "source": [
    "points = pd.DataFrame(columns=['x', 'y', 'f(x, y)'])\n",
    "points['x'] = xs1[:, 0]\n",
    "points['y'] = xs1[:, 1]\n",
    "points['f(x, y)'] = fs"
   ]
  },
  {
   "cell_type": "code",
   "execution_count": 6,
   "metadata": {},
   "outputs": [
    {
     "data": {
      "text/html": [
       "<div>\n",
       "<style scoped>\n",
       "    .dataframe tbody tr th:only-of-type {\n",
       "        vertical-align: middle;\n",
       "    }\n",
       "\n",
       "    .dataframe tbody tr th {\n",
       "        vertical-align: top;\n",
       "    }\n",
       "\n",
       "    .dataframe thead th {\n",
       "        text-align: right;\n",
       "    }\n",
       "</style>\n",
       "<table border=\"1\" class=\"dataframe\">\n",
       "  <thead>\n",
       "    <tr style=\"text-align: right;\">\n",
       "      <th></th>\n",
       "      <th>x</th>\n",
       "      <th>y</th>\n",
       "      <th>f(x, y)</th>\n",
       "    </tr>\n",
       "  </thead>\n",
       "  <tbody>\n",
       "    <tr>\n",
       "      <th>0</th>\n",
       "      <td>1.000000</td>\n",
       "      <td>10.000000</td>\n",
       "      <td>786.000000</td>\n",
       "    </tr>\n",
       "    <tr>\n",
       "      <th>1</th>\n",
       "      <td>1.000000</td>\n",
       "      <td>10.000000</td>\n",
       "      <td>786.000000</td>\n",
       "    </tr>\n",
       "    <tr>\n",
       "      <th>2</th>\n",
       "      <td>0.930000</td>\n",
       "      <td>8.210000</td>\n",
       "      <td>497.271200</td>\n",
       "    </tr>\n",
       "    <tr>\n",
       "      <th>3</th>\n",
       "      <td>0.879300</td>\n",
       "      <td>6.778700</td>\n",
       "      <td>312.713516</td>\n",
       "    </tr>\n",
       "    <tr>\n",
       "      <th>4</th>\n",
       "      <td>0.843927</td>\n",
       "      <td>5.634167</td>\n",
       "      <td>194.734107</td>\n",
       "    </tr>\n",
       "    <tr>\n",
       "      <th>...</th>\n",
       "      <td>...</td>\n",
       "      <td>...</td>\n",
       "      <td>...</td>\n",
       "    </tr>\n",
       "    <tr>\n",
       "      <th>286</th>\n",
       "      <td>1.994458</td>\n",
       "      <td>1.000307</td>\n",
       "      <td>-15.999970</td>\n",
       "    </tr>\n",
       "    <tr>\n",
       "      <th>287</th>\n",
       "      <td>1.994566</td>\n",
       "      <td>1.000301</td>\n",
       "      <td>-15.999971</td>\n",
       "    </tr>\n",
       "    <tr>\n",
       "      <th>288</th>\n",
       "      <td>1.994671</td>\n",
       "      <td>1.000295</td>\n",
       "      <td>-15.999972</td>\n",
       "    </tr>\n",
       "    <tr>\n",
       "      <th>289</th>\n",
       "      <td>1.994775</td>\n",
       "      <td>1.000289</td>\n",
       "      <td>-15.999973</td>\n",
       "    </tr>\n",
       "    <tr>\n",
       "      <th>290</th>\n",
       "      <td>1.994877</td>\n",
       "      <td>1.000284</td>\n",
       "      <td>-15.999974</td>\n",
       "    </tr>\n",
       "  </tbody>\n",
       "</table>\n",
       "<p>291 rows × 3 columns</p>\n",
       "</div>"
      ],
      "text/plain": [
       "            x          y     f(x, y)\n",
       "0    1.000000  10.000000  786.000000\n",
       "1    1.000000  10.000000  786.000000\n",
       "2    0.930000   8.210000  497.271200\n",
       "3    0.879300   6.778700  312.713516\n",
       "4    0.843927   5.634167  194.734107\n",
       "..        ...        ...         ...\n",
       "286  1.994458   1.000307  -15.999970\n",
       "287  1.994566   1.000301  -15.999971\n",
       "288  1.994671   1.000295  -15.999972\n",
       "289  1.994775   1.000289  -15.999973\n",
       "290  1.994877   1.000284  -15.999974\n",
       "\n",
       "[291 rows x 3 columns]"
      ]
     },
     "execution_count": 6,
     "metadata": {},
     "output_type": "execute_result"
    }
   ],
   "source": [
    "points"
   ]
  },
  {
   "cell_type": "code",
   "execution_count": 7,
   "metadata": {},
   "outputs": [
    {
     "name": "stdout",
     "output_type": "stream",
     "text": [
      "373\n"
     ]
    }
   ],
   "source": [
    "xs2, fs, fmin, xmin = gradient_descent(np.array([10, 10]))\n",
    "print(len(xs2))"
   ]
  },
  {
   "cell_type": "code",
   "execution_count": 8,
   "metadata": {},
   "outputs": [
    {
     "name": "stdout",
     "output_type": "stream",
     "text": [
      "377\n"
     ]
    }
   ],
   "source": [
    "xs3, fs, fmin, xmin = gradient_descent(np.array([10, 1]))\n",
    "print(len(xs3))"
   ]
  },
  {
   "cell_type": "markdown",
   "metadata": {},
   "source": [
    "Number of steps depends on the steepness of the slope along the path from the starting point to the minimum."
   ]
  },
  {
   "cell_type": "markdown",
   "metadata": {},
   "source": [
    "#### Plotting"
   ]
  },
  {
   "cell_type": "code",
   "execution_count": 9,
   "metadata": {
    "scrolled": true
   },
   "outputs": [
    {
     "data": {
      "image/png": "[encoded data removed]",
      "text/plain": [
       "<Figure size 864x720 with 1 Axes>"
      ]
     },
     "metadata": {
      "needs_background": "light"
     },
     "output_type": "display_data"
    }
   ],
   "source": [
    "fig, ax = plt.subplots(figsize=(12,10))\n",
    "\n",
    "xlist = np.linspace(-10, 10, 500)\n",
    "ylist = np.linspace(-10, 10, 500)\n",
    "X, Y = np.meshgrid(xlist, ylist)\n",
    "Z = np.vectorize(f, signature='(2)->()')(np.stack((X, Y), axis=-1))\n",
    "\n",
    "plt.contourf(X, Y, Z, levels=30)\n",
    " \n",
    "\n",
    "for i in range(len(xs1)):\n",
    "     ax.plot(xs1[i:i+2, 0], xs1[i:i+2, 1], c='b')\n",
    "for i in range(len(xs2)):\n",
    "     ax.plot(xs2[i:i+2, 0], xs2[i:i+2, 1], c='r')\n",
    "for i in range(len(xs3)):\n",
    "     ax.plot(xs3[i:i+2, 0], xs3[i:i+2, 1], c='g')\n"
   ]
  },
  {
   "cell_type": "markdown",
   "metadata": {},
   "source": [
    "### 10"
   ]
  },
  {
   "cell_type": "code",
   "execution_count": 10,
   "metadata": {},
   "outputs": [],
   "source": [
    "def f(x):\n",
    "    s = 0\n",
    "    for i in range(1, x.shape[0]):\n",
    "        s += (2*x[i-1]**2 - x[i] - 1)**2\n",
    "    return s + (x[0] - 1)**2 / 4."
   ]
  },
  {
   "cell_type": "code",
   "execution_count": 11,
   "metadata": {},
   "outputs": [],
   "source": [
    "def gradf(x):\n",
    "    n = x.shape[0]\n",
    "    g = np.zeros(n)\n",
    "    h = 1e-6\n",
    "    for i in range(n):\n",
    "        e_i = np.zeros(n)\n",
    "        e_i[i] = 1\n",
    "        g[i] = (f(x+h*e_i)-f(x-h*e_i))/h/2\n",
    "        e_i[i] = 0\n",
    "    return g"
   ]
  },
  {
   "cell_type": "code",
   "execution_count": 12,
   "metadata": {},
   "outputs": [],
   "source": [
    "def f_alpha(x, g, alpha):\n",
    "    return f(x - alpha * g)"
   ]
  },
  {
   "cell_type": "markdown",
   "metadata": {},
   "source": [
    "n = 3"
   ]
  },
  {
   "cell_type": "code",
   "execution_count": 13,
   "metadata": {},
   "outputs": [],
   "source": [
    "x0 = np.array([-1.5, 1, 1])\n",
    "g0 = gradf(x0)\n",
    "alphas = np.arange(0, 1, 0.001)\n",
    "funcs = [f_alpha(x0, g0, alpha) for alpha in alphas]\n",
    "best_ind = np.argmin(funcs)\n",
    "best_alpha = alphas[best_ind]"
   ]
  },
  {
   "cell_type": "code",
   "execution_count": 14,
   "metadata": {
    "scrolled": true
   },
   "outputs": [
    {
     "name": "stdout",
     "output_type": "stream",
     "text": [
      "Best alpha: 0.016, f(x0): 7.8125, f(x1): 1.1171558400484307\n"
     ]
    }
   ],
   "source": [
    "print(f'Best alpha: {best_alpha}, f(x0): {f(x0)}, f(x1): {f_alpha(x0, g0, best_alpha)}')"
   ]
  },
  {
   "cell_type": "markdown",
   "metadata": {},
   "source": [
    "n = 10"
   ]
  },
  {
   "cell_type": "code",
   "execution_count": 15,
   "metadata": {
    "scrolled": true
   },
   "outputs": [],
   "source": [
    "x0 = np.array([-1.5, 1, 1, 1, 1, 1, 1, 1, 1, 1])\n",
    "alphas = np.arange(0, 0.5, 0.001)\n",
    "g0 = gradf(x0)\n",
    "funcs = [f_alpha(x0, g0, alpha) for alpha in alphas]\n",
    "best_ind = np.argmin(funcs)\n",
    "best_alpha = alphas[best_ind]"
   ]
  },
  {
   "cell_type": "code",
   "execution_count": 16,
   "metadata": {},
   "outputs": [
    {
     "name": "stdout",
     "output_type": "stream",
     "text": [
      "Best alpha: 0.016, f(x0): 7.8125, f(x1): 1.1171558400484307\n"
     ]
    }
   ],
   "source": [
    "print(f'Best alpha: {best_alpha}, f(x0): {f(x0)}, f(x1): {f_alpha(x0, g0, best_alpha)}')"
   ]
  },
  {
   "cell_type": "code",
   "execution_count": 17,
   "metadata": {},
   "outputs": [],
   "source": [
    "def get_best_alpha(x):\n",
    "    g = gradf(x)\n",
    "    alphas = np.arange(0, 1, 0.001)\n",
    "    funcs = [f_alpha(x, g, alpha) for alpha in alphas]\n",
    "    best_ind = np.argmin(funcs)\n",
    "    best_alpha = alphas[best_ind]\n",
    "    \n",
    "    return best_alpha"
   ]
  },
  {
   "cell_type": "code",
   "execution_count": 18,
   "metadata": {},
   "outputs": [],
   "source": [
    "def gradient_descent(x0, alpha='argmin', max_iter=1000, tol=1e-6):\n",
    "    x = x0\n",
    "    num_steps = 0\n",
    "    for i in range(max_iter):\n",
    "        if alpha == 'argmin':\n",
    "            a = get_best_alpha(x)\n",
    "        else:\n",
    "            a = alpha  \n",
    "        cur_x = x - a*gradf(x)\n",
    "        num_steps += 1\n",
    "        if np.linalg.norm(cur_x - x) <= tol:\n",
    "            break\n",
    "        x = cur_x\n",
    "        \n",
    "    return num_steps, f(x), x"
   ]
  },
  {
   "cell_type": "markdown",
   "metadata": {},
   "source": [
    "n = 3"
   ]
  },
  {
   "cell_type": "code",
   "execution_count": 19,
   "metadata": {},
   "outputs": [],
   "source": [
    "x0 = np.array([-1.5, 1, 1])"
   ]
  },
  {
   "cell_type": "code",
   "execution_count": 20,
   "metadata": {},
   "outputs": [
    {
     "name": "stdout",
     "output_type": "stream",
     "text": [
      "fmin: 0.003175903193043963, xmin: [ 0.889  0.571 -0.35 ], num_steps: 1000\n"
     ]
    }
   ],
   "source": [
    "np.set_printoptions(precision=3)\n",
    "num_steps, fmin, xmin = gradient_descent(x0, alpha='argmin')\n",
    "print(f'fmin: {fmin}, xmin: {xmin}, num_steps: {num_steps}')"
   ]
  },
  {
   "cell_type": "code",
   "execution_count": 21,
   "metadata": {},
   "outputs": [
    {
     "name": "stdout",
     "output_type": "stream",
     "text": [
      "fmin: 4.7775490395257e+41, xmin: [1.859e+10 1.841e+06 7.821e+02], num_steps: 6\n"
     ]
    }
   ],
   "source": [
    "np.set_printoptions(precision=3)\n",
    "num_steps, fmin, xmin = gradient_descent(x0, alpha=0.1, max_iter=10)\n",
    "print(f'fmin: {fmin}, xmin: {xmin}, num_steps: {num_steps}')"
   ]
  },
  {
   "cell_type": "code",
   "execution_count": 22,
   "metadata": {},
   "outputs": [
    {
     "name": "stdout",
     "output_type": "stream",
     "text": [
      "fmin: 2.451562444818585e+56, xmin: [8.848e+13 1.024e+09 2.350e+01], num_steps: 4\n"
     ]
    }
   ],
   "source": [
    "np.set_printoptions(precision=3)\n",
    "num_steps, fmin, xmin = gradient_descent(x0, alpha=0.5, max_iter=5)\n",
    "print(f'fmin: {fmin}, xmin: {xmin}, num_steps: {num_steps}')"
   ]
  },
  {
   "cell_type": "code",
   "execution_count": 23,
   "metadata": {},
   "outputs": [
    {
     "name": "stdout",
     "output_type": "stream",
     "text": [
      "fmin: 7.810397689734698e+72, xmin: [1.182e+18 1.723e+02 1.410e+02], num_steps: 4\n"
     ]
    }
   ],
   "source": [
    "np.set_printoptions(precision=3)\n",
    "num_steps, fmin, xmin = gradient_descent(x0, alpha=1.0, max_iter=5)\n",
    "print(f'fmin: {fmin}, xmin: {xmin}, num_steps: {num_steps}')"
   ]
  },
  {
   "cell_type": "markdown",
   "metadata": {},
   "source": [
    "We see that only for argmin method for alpha the algorithm yields reasonable a reasonable result. For $\\alpha \\geq 0.1$ the values shoot up insanely. For the argmin method it converges in > 1000 steps."
   ]
  },
  {
   "cell_type": "markdown",
   "metadata": {},
   "source": [
    "n = 10"
   ]
  },
  {
   "cell_type": "code",
   "execution_count": 24,
   "metadata": {},
   "outputs": [],
   "source": [
    "x0 = np.array([-1.5, 1, 1, 1, 1, 1, 1, 1, 1, 1])"
   ]
  },
  {
   "cell_type": "code",
   "execution_count": 25,
   "metadata": {},
   "outputs": [
    {
     "name": "stdout",
     "output_type": "stream",
     "text": [
      "fmin: 0.9830311985437051, xmin: [-0.965  0.991  0.998  0.999  1.     1.     1.     1.     1.     1.   ], num_steps: 15\n"
     ]
    }
   ],
   "source": [
    "np.set_printoptions(precision=3)\n",
    "num_steps, fmin, xmin = gradient_descent(x0, alpha='argmin')\n",
    "print(f'fmin: {fmin}, xmin: {xmin}, num_steps: {num_steps}')"
   ]
  },
  {
   "cell_type": "code",
   "execution_count": 26,
   "metadata": {},
   "outputs": [
    {
     "name": "stdout",
     "output_type": "stream",
     "text": [
      "fmin: 4.777549842624381e+41, xmin: [ 1.859e+10  1.846e+06  1.565e+03 -9.193e-01  1.500e+00  1.000e+00\n",
      "  1.000e+00  1.000e+00  1.000e+00  1.000e+00], num_steps: 5\n"
     ]
    }
   ],
   "source": [
    "np.set_printoptions(precision=3)\n",
    "num_steps, fmin, xmin = gradient_descent(x0, alpha=0.1, max_iter=5)\n",
    "print(f'fmin: {fmin}, xmin: {xmin}, num_steps: {num_steps}')"
   ]
  },
  {
   "cell_type": "code",
   "execution_count": 27,
   "metadata": {},
   "outputs": [
    {
     "name": "stdout",
     "output_type": "stream",
     "text": [
      "fmin: 2.451562444818585e+56, xmin: [8.848e+13 1.024e+09 2.350e+01 1.000e+00 1.000e+00 1.000e+00 1.000e+00\n",
      " 1.000e+00 1.000e+00 1.000e+00], num_steps: 4\n"
     ]
    }
   ],
   "source": [
    "np.set_printoptions(precision=3)\n",
    "num_steps, fmin, xmin = gradient_descent(x0, alpha=0.5, max_iter=5)\n",
    "print(f'fmin: {fmin}, xmin: {xmin}, num_steps: {num_steps}')"
   ]
  },
  {
   "cell_type": "code",
   "execution_count": 28,
   "metadata": {},
   "outputs": [
    {
     "name": "stdout",
     "output_type": "stream",
     "text": [
      "fmin: 7.810397689734698e+72, xmin: [1.182e+18 1.723e+02 1.410e+02 1.000e+00 1.000e+00 1.000e+00 1.000e+00\n",
      " 1.000e+00 1.000e+00 1.000e+00], num_steps: 4\n"
     ]
    }
   ],
   "source": [
    "np.set_printoptions(precision=3)\n",
    "num_steps, fmin, xmin = gradient_descent(x0, alpha=1.0, max_iter=5)\n",
    "print(f'fmin: {fmin}, xmin: {xmin}, num_steps: {num_steps}')"
   ]
  },
  {
   "cell_type": "markdown",
   "metadata": {},
   "source": [
    "Same for the 10-dimensional case. For the argmin method it converges in 15 steps."
   ]
  },
  {
   "cell_type": "code",
   "execution_count": 29,
   "metadata": {},
   "outputs": [],
   "source": [
    "from scipy.optimize import minimize"
   ]
  },
  {
   "cell_type": "markdown",
   "metadata": {},
   "source": [
    "n = 3"
   ]
  },
  {
   "cell_type": "code",
   "execution_count": 30,
   "metadata": {},
   "outputs": [
    {
     "name": "stdout",
     "output_type": "stream",
     "text": [
      "xmin: [1. 1. 1.], num_steps: 119\n"
     ]
    }
   ],
   "source": [
    "optim = minimize(f, x0=np.array([-1.5, 1, 1]), method='CG', tol=1e-6)\n",
    "\n",
    "xmin, num_steps = optim['x'], optim['nit']\n",
    "print(f'xmin: {xmin}, num_steps: {num_steps}')"
   ]
  },
  {
   "cell_type": "markdown",
   "metadata": {},
   "source": [
    "n = 10"
   ]
  },
  {
   "cell_type": "code",
   "execution_count": 31,
   "metadata": {},
   "outputs": [
    {
     "name": "stdout",
     "output_type": "stream",
     "text": [
      "xmin: [-0.965  0.991  0.998  0.998  0.995  0.98   0.922  0.701 -0.016 -0.999], num_steps: 2000\n"
     ]
    }
   ],
   "source": [
    "optim = minimize(f, x0=np.array([-1.5, 1, 1, 1, 1, 1, 1, 1, 1, 1]), method='CG', tol=1e-6)\n",
    "\n",
    "xmin, num_steps = optim['x'], optim['nit']\n",
    "print(f'xmin: {xmin}, num_steps: {num_steps}')"
   ]
  },
  {
   "cell_type": "markdown",
   "metadata": {},
   "source": [
    "Works fine."
   ]
  }
 ],
 "metadata": {
  "kernelspec": {
   "display_name": "Python 3",
   "language": "python",
   "name": "python3"
  },
  "language_info": {
   "codemirror_mode": {
    "name": "ipython",
    "version": 3
   },
   "file_extension": ".py",
   "mimetype": "text/x-python",
   "name": "python",
   "nbconvert_exporter": "python",
   "pygments_lexer": "ipython3",
   "version": "3.7.6"
  }
 },
 "nbformat": 4,
 "nbformat_minor": 4
}
